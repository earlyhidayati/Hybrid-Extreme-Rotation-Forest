{
  "nbformat": 4,
  "nbformat_minor": 0,
  "metadata": {
    "kernelspec": {
      "display_name": "Python 3",
      "language": "python",
      "name": "python3"
    },
    "language_info": {
      "codemirror_mode": {
        "name": "ipython",
        "version": 3
      },
      "file_extension": ".py",
      "mimetype": "text/x-python",
      "name": "python",
      "nbconvert_exporter": "python",
      "pygments_lexer": "ipython3",
      "version": "3.6.3"
    },
    "colab": {
      "name": "HybridExtremeRotationForest.ipynb",
      "provenance": [],
      "collapsed_sections": [],
      "include_colab_link": true
    }
  },
  "cells": [
    {
      "cell_type": "markdown",
      "metadata": {
        "id": "view-in-github",
        "colab_type": "text"
      },
      "source": [
        "<a href=\"https://colab.research.google.com/github/earlyhidayati/Hybrid-Extreme-Rotation-Forest/blob/master/HybridExtremeRotationForest.ipynb\" target=\"_parent\"><img src=\"https://colab.research.google.com/assets/colab-badge.svg\" alt=\"Open In Colab\"/></a>"
      ]
    },
    {
      "cell_type": "code",
      "metadata": {
        "id": "B2XxJWn4TQw0",
        "colab_type": "code",
        "outputId": "84025250-3f55-4d31-c76e-5cb9b3ffbb99",
        "colab": {
          "base_uri": "https://localhost:8080/",
          "height": 122
        }
      },
      "source": [
        "pip install sklearn_extensions"
      ],
      "execution_count": 0,
      "outputs": [
        {
          "output_type": "stream",
          "text": [
            "Requirement already satisfied: sklearn_extensions in /usr/local/lib/python3.6/dist-packages (0.0.2)\n",
            "Requirement already satisfied: scikit-learn>=0.15 in /usr/local/lib/python3.6/dist-packages (from sklearn_extensions) (0.22.2.post1)\n",
            "Requirement already satisfied: scipy>=0.16.0 in /usr/local/lib/python3.6/dist-packages (from sklearn_extensions) (1.4.1)\n",
            "Requirement already satisfied: numpy>=1.9.0 in /usr/local/lib/python3.6/dist-packages (from sklearn_extensions) (1.18.2)\n",
            "Requirement already satisfied: joblib>=0.11 in /usr/local/lib/python3.6/dist-packages (from scikit-learn>=0.15->sklearn_extensions) (0.14.1)\n"
          ],
          "name": "stdout"
        }
      ]
    },
    {
      "cell_type": "code",
      "metadata": {
        "id": "59Co7R3GS1H6",
        "colab_type": "code",
        "colab": {}
      },
      "source": [
        "import sklearn_extensions"
      ],
      "execution_count": 0,
      "outputs": []
    },
    {
      "cell_type": "code",
      "metadata": {
        "id": "f9QtgoPJS1IL",
        "colab_type": "code",
        "colab": {}
      },
      "source": [
        "#import os\n",
        "import random\n",
        "import numpy as np"
      ],
      "execution_count": 0,
      "outputs": []
    },
    {
      "cell_type": "code",
      "metadata": {
        "id": "U3dJbnVrS1IX",
        "colab_type": "code",
        "colab": {}
      },
      "source": [
        "from scipy.stats import mode"
      ],
      "execution_count": 0,
      "outputs": []
    },
    {
      "cell_type": "code",
      "metadata": {
        "id": "Pz0wbxecS1Ii",
        "colab_type": "code",
        "colab": {}
      },
      "source": [
        "#from sklearn import cross_validation\n",
        "from sklearn.decomposition import PCA\n",
        "\n",
        "from sklearn_extensions.extreme_learning_machines.elm import GenELMClassifier"
      ],
      "execution_count": 0,
      "outputs": []
    },
    {
      "cell_type": "code",
      "metadata": {
        "id": "MLWycDxGS1It",
        "colab_type": "code",
        "colab": {}
      },
      "source": [
        "__all__ = [\"HybridExtremeRotationForest\"]\n",
        "\n",
        "class HybridExtremeRotationForest (object):\n",
        "    \"\"\"\n",
        "    HybridExtremeRotationForest\n",
        "    \"\"\"\n",
        "\n",
        "    def __init__(self, n_classifiers=35):\n",
        "\n",
        "        self._n_classifiers = n_classifiers\n",
        "        self._classifiers = []\n",
        "        self._inforotar = []\n",
        "        self._std = []\n",
        "        self._med = []\n",
        "        self._noise = []\n",
        "\n",
        "    @staticmethod\n",
        "    def _apply_pca(data, labels, n_comps=1):\n",
        "        \"\"\"\n",
        "        Applies PCA to the data\n",
        "\n",
        "        :param data: ndarray\n",
        "        A MxN array with M samples of dimension N\n",
        "\n",
        "        :param labels: ndarray or list\n",
        "        A 1xN array with the class labels of each sample\n",
        "        of data\n",
        "\n",
        "        :return: sklearn.decomposition.PCA\n",
        "\n",
        "        \"\"\"\n",
        "        # PCA\n",
        "        pca = PCA(n_components=n_comps, whiten=False, copy=True)\n",
        "        pca.fit(data)\n",
        "        importance_vars = abs(pca.components_[0])\n",
        "        importance_vars = [(s,i) for i,s in enumerate(importance_vars)]\n",
        "        importance_vars.sort(key = lambda tup:tup[0])\n",
        "        importance_vars = importance_vars[-3:][::-1]\n",
        "        importance_vars = [j for i,j in importance_vars]\n",
        "        return pca, importance_vars"
      ],
      "execution_count": 0,
      "outputs": []
    },
    {
      "cell_type": "code",
      "metadata": {
        "id": "_pv9KIBOS1I3",
        "colab_type": "code",
        "colab": {}
      },
      "source": [
        "def fit(self, X, Y):\n",
        "    \"\"\"\n",
        "    Fit the model using X, y as training data.\n",
        "    Parameters\n",
        "    ----------\n",
        "    X : {array-like, sparse matrix} of shape [n_samples, n_features]\n",
        "    Training vectors, where n_samples is the number of samples\n",
        "    and n_features is the number of features.\n",
        "    \n",
        "    y : array-like of shape [n_samples, n_outputs]\n",
        "    Target values (class labels in classification, real numbers in regression)\n",
        "    Returns\n",
        "    -------\n",
        "    self : object\n",
        "    \n",
        "    Returns an instance of self.\n",
        "    \"\"\"\n",
        "    \n",
        "    n_samps, NF = X.shape\n",
        "    # Compute mean, std and noise for z-score\n",
        "    self._std = np.std(X,axis=0)\n",
        "    self._med = np.mean(X,axis=0)\n",
        "    self._noise = [random.uniform(-0.000005, 0.000005) for p in range(0,X.shape[1])]\n",
        "    \n",
        "    # Apply Z-score\n",
        "    Xz = (X-self._med)/(self._std+self._noise)\n",
        "    \n",
        "    for i in range(self._n_classifiers):\n",
        "    # For each classifier in the ensemble\n",
        "    # Given:\n",
        "    # X: the objects in the training data set (an N x n matrix)\n",
        "    # Y: the labels of the training set (an N x 1 matrix)\n",
        "    # K: the number of subsets\n",
        "    # NF: the number of total features\n",
        "    # {w1,w2,.., wc}: the set of class labels\n",
        "    #L\n",
        "    # Prepare the rotaton matrix R:\n",
        "    # Split F (the feature set) into K subsets Fij (for j=1,..,K/4)\n",
        "    # K is a random value between 1 and NF/4.\n",
        "    # We want at least 1 feature for each subset.\n",
        "     K = int(round(1 + NF/4*random.random()))\n",
        "    \n",
        "    FK = np.zeros((K,NF))\n",
        "    for j in range(K):\n",
        "        numSelecFeatures = int(1 + round((NF-1)*random.random()))\n",
        "        rp = np.random.permutation(NF)\n",
        "        v = [rp[k] for k in range(0, numSelecFeatures)]\n",
        "        FK[j,v] = 1\n",
        "        \n",
        "        R = np.zeros((NF,NF))\n",
        "        for l in range(K):\n",
        "            # Let Xzij be the data set X for the features in Fij\n",
        "            pos = np.nonzero(FK[l,:])[0]\n",
        "            vpos = [pos[m] for m in range(0, len(pos))]\n",
        "            Xzij = Xz[:, vpos]\n",
        "            pca, importance_vars = self._apply_pca(Xzij, Y, len(pos))\n",
        "            \n",
        "            for indI in range(0,len(pca.components_)):\n",
        "                for indJ in range(0,len(pca.components_)):\n",
        "                    R[pos[indI], pos[indJ]] = pca.components_[indI,indJ]\n",
        "                    \n",
        "                    self._inforotar.append(R)\n",
        "                    Xrot = Xz.dot(R)\n",
        "                    cl = HybridExtremeRotationForest ()\n",
        "                    cl.fit(Xrot, Y)\n",
        "                    self._classifiers.append(cl)\n",
        "                    return self, importance_vars"
      ],
      "execution_count": 0,
      "outputs": []
    },
    {
      "cell_type": "code",
      "metadata": {
        "id": "iRidgTxjS1I-",
        "colab_type": "code",
        "colab": {}
      },
      "source": [
        "def predict(self, X):\n",
        "    \"\"\"\n",
        "    Predict values using the model\n",
        "    Parameters\n",
        "    ----------\n",
        "    X : {array-like, sparse matrix} of shape [n_samples, n_features]\n",
        "    \n",
        "    Returns\n",
        "    -------\n",
        "    C : numpy array of shape [n_samples, n_outputs] Predicted values.\n",
        "    \"\"\"\n",
        "    dim = len(self._classifiers)\n",
        "    ensemble_output = np.zeros((len(X),dim))\n",
        "    \n",
        "    # Z-score\n",
        "    X = (X-self._med)/(self._std+self._noise)\n",
        "    \n",
        "    for i in range(0,dim):\n",
        "        xrot_z = X.dot(self._inforotar[i])\n",
        "        ensemble_output[:,i] = self._classifiers[i].predict(xrot_z)\n",
        "        \n",
        "        y_pred = mode(ensemble_output, axis=1)[0]\n",
        "        \n",
        "        return y_pred"
      ],
      "execution_count": 0,
      "outputs": []
    },
    {
      "cell_type": "code",
      "metadata": {
        "id": "8ceLRFkiS1JF",
        "colab_type": "code",
        "colab": {}
      },
      "source": [
        ""
      ],
      "execution_count": 0,
      "outputs": []
    }
  ]
}